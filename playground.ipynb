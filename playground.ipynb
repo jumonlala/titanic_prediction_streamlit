{
 "cells": [
  {
   "cell_type": "code",
   "execution_count": 2,
   "metadata": {},
   "outputs": [],
   "source": [
    "# global imports \n",
    "import streamlit as st \n",
    "import pandas as pd\n",
    "from sklearn.linear_model import LogisticRegression\n",
    "from sklearn.model_selection import train_test_split\n",
    "from sklearn.metrics import confusion_matrix\n",
    "from sklearn.preprocessing import StandardScaler\n",
    "import matplotlib.pyplot as plt"
   ]
  },
  {
   "cell_type": "code",
   "execution_count": 37,
   "metadata": {},
   "outputs": [],
   "source": [
    "# function definitions\n",
    "def capitalize_columns(data):\n",
    "    data.columns = data.columns.str.capitalize()\n",
    "    return data\n",
    "def manipulate_data(data):\n",
    "    data['Sex'] = data['Sex'].map({'male':0, 'female':1})\n",
    "    pclass = pd.get_dummies(data['Pclass']).rename(columns= {1:'FirstClass', 2:'SecondClass', 3:'ThirdClass'})\n",
    "    data = pd.concat([data, pclass], axis=1)\n",
    "    data['Age'] = data['Age'].fillna(data['Age'].mean())\n",
    "    return data[['Age','Sex','FirstClass','SecondClass','ThirdClass','Survived']]"
   ]
  },
  {
   "cell_type": "code",
   "execution_count": 38,
   "metadata": {},
   "outputs": [],
   "source": [
    "# import data \n",
    "train_df = pd.read_csv('data/train.csv')  "
   ]
  },
  {
   "cell_type": "code",
   "execution_count": 39,
   "metadata": {},
   "outputs": [
    {
     "name": "stdout",
     "output_type": "stream",
     "text": [
      "    Age  Sex  FirstClass  SecondClass  ThirdClass  Survived\n",
      "0  22.0    0       False        False        True         0\n",
      "1  38.0    1        True        False       False         1\n",
      "2  26.0    1       False        False        True         1\n",
      "3  35.0    1        True        False       False         1\n",
      "4  35.0    0       False        False        True         0\n"
     ]
    }
   ],
   "source": [
    "train_df = capitalize_columns(train_df)\n",
    "train_df = manipulate_data(train_df)\n",
    "print(train_df.head())"
   ]
  },
  {
   "cell_type": "code",
   "execution_count": 40,
   "metadata": {},
   "outputs": [],
   "source": [
    "# split data\n",
    "features = ['Age', 'Sex', 'FirstClass', 'SecondClass', 'ThirdClass']\n",
    "X_train, X_test, y_train, y_test = train_test_split(train_df[features], train_df['Survived'], test_size=0.2, random_state=42)"
   ]
  },
  {
   "cell_type": "code",
   "execution_count": 41,
   "metadata": {},
   "outputs": [],
   "source": [
    "# scale data\n",
    "scaler = StandardScaler()\n",
    "train_features = scaler.fit_transform(X_train)\n",
    "test_features = scaler.transform(X_test)    "
   ]
  },
  {
   "cell_type": "code",
   "execution_count": 42,
   "metadata": {},
   "outputs": [
    {
     "name": "stdout",
     "output_type": "stream",
     "text": [
      "Train score: 0.7949438202247191\n",
      "Test score: 0.8044692737430168\n"
     ]
    }
   ],
   "source": [
    "# build the model\n",
    "model = LogisticRegression()\n",
    "model.fit(train_features, y_train)\n",
    "train_score = model.score(train_features, y_train)\n",
    "test_score = model.score(test_features, y_test)\n",
    "print(f'Train score: {train_score}')\n",
    "print(f'Test score: {test_score}')"
   ]
  },
  {
   "cell_type": "code",
   "execution_count": 45,
   "metadata": {},
   "outputs": [
    {
     "name": "stdout",
     "output_type": "stream",
     "text": [
      "[[91 14]\n",
      " [21 53]]\n"
     ]
    }
   ],
   "source": [
    "y_pred = model.predict(test_features)\n",
    "cm = confusion_matrix(y_test, y_pred)\n",
    "print(cm)"
   ]
  }
 ],
 "metadata": {
  "kernelspec": {
   "display_name": ".venv",
   "language": "python",
   "name": "python3"
  },
  "language_info": {
   "codemirror_mode": {
    "name": "ipython",
    "version": 3
   },
   "file_extension": ".py",
   "mimetype": "text/x-python",
   "name": "python",
   "nbconvert_exporter": "python",
   "pygments_lexer": "ipython3",
   "version": "3.12.1"
  },
  "orig_nbformat": 4
 },
 "nbformat": 4,
 "nbformat_minor": 2
}
